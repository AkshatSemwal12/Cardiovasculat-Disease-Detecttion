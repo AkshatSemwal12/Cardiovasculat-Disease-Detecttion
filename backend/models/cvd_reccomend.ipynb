{
 "cells": [
  {
   "cell_type": "code",
   "execution_count": 1,
   "metadata": {},
   "outputs": [
    {
     "name": "stdout",
     "output_type": "stream",
     "text": [
      "Accuracy: 0.7550091074681239\n",
      "              precision    recall  f1-score   support\n",
      "\n",
      "           0       0.86      0.85      0.85       922\n",
      "           1       0.25      0.26      0.25       176\n",
      "\n",
      "    accuracy                           0.76      1098\n",
      "   macro avg       0.55      0.56      0.55      1098\n",
      "weighted avg       0.76      0.76      0.76      1098\n",
      "\n"
     ]
    }
   ],
   "source": [
    "import pandas as pd\n",
    "from sklearn.tree import DecisionTreeClassifier\n",
    "from sklearn.model_selection import train_test_split\n",
    "from sklearn.metrics import classification_report, accuracy_score\n",
    "\n",
    "# Load the dataset\n",
    "data = pd.read_csv('framingham.csv')\n",
    "\n",
    "# Handle missing data (if any)\n",
    "data = data.dropna()\n",
    "\n",
    "# Features and target variable\n",
    "X = data.drop(columns=['TenYearCHD'])  # All features except the target\n",
    "y = data['TenYearCHD']  # Target variable\n",
    "\n",
    "# Train-test split\n",
    "X_train, X_test, y_train, y_test = train_test_split(X, y, test_size=0.3, random_state=42)\n",
    "\n",
    "# Simple Decision Tree for Recommendations\n",
    "recommender = DecisionTreeClassifier(random_state=42)\n",
    "recommender.fit(X_train, y_train)\n",
    "\n",
    "# Predictions\n",
    "y_pred = recommender.predict(X_test)\n",
    "\n",
    "# Evaluate the model\n",
    "print(\"Accuracy:\", accuracy_score(y_test, y_pred))\n",
    "print(classification_report(y_test, y_pred))\n"
   ]
  },
  {
   "cell_type": "code",
   "execution_count": null,
   "metadata": {},
   "outputs": [],
   "source": []
  }
 ],
 "metadata": {
  "kernelspec": {
   "display_name": "base",
   "language": "python",
   "name": "python3"
  },
  "language_info": {
   "codemirror_mode": {
    "name": "ipython",
    "version": 3
   },
   "file_extension": ".py",
   "mimetype": "text/x-python",
   "name": "python",
   "nbconvert_exporter": "python",
   "pygments_lexer": "ipython3",
   "version": "3.11.5"
  }
 },
 "nbformat": 4,
 "nbformat_minor": 2
}
